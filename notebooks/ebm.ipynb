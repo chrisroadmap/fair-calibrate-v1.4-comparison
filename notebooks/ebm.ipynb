{
 "cells": [
  {
   "cell_type": "markdown",
   "id": "9ee83b61-8235-46fe-9f17-ba8625b16cad",
   "metadata": {},
   "source": [
    "# Show responses of energy balance model"
   ]
  },
  {
   "cell_type": "code",
   "execution_count": null,
   "id": "daf7c5bf-2a97-48a0-b9ab-e5bf5c5d7d01",
   "metadata": {},
   "outputs": [],
   "source": [
    "import os\n",
    "\n",
    "from fair.energy_balance_model import EnergyBalanceModel\n",
    "import matplotlib.pyplot as pl\n",
    "import pandas as pd\n",
    "import numpy as np"
   ]
  },
  {
   "cell_type": "code",
   "execution_count": null,
   "id": "6a27944b-da00-4621-84d2-c03b63a61859",
   "metadata": {},
   "outputs": [],
   "source": [
    "cmip6_output_df = pd.read_csv('../data/calibration/v1.4.1/4xCO2_cmip6.csv')\n",
    "cmip6_output_df.head()"
   ]
  },
  {
   "cell_type": "code",
   "execution_count": null,
   "id": "75b3e3d4-17de-429f-8718-db44fa118972",
   "metadata": {},
   "outputs": [],
   "source": [
    "# where models submit more than one simulation, we choose the one that looks the most stable\n",
    "multi_runs = {\n",
    "    \"GISS-E2-1-G\": \"r1i1p1f1\",\n",
    "    \"GISS-E2-1-H\": \"r1i1p3f1\",\n",
    "    \"MRI-ESM2-0\": \"r1i1p1f1\",\n",
    "    \"EC-Earth3\": \"r3i1p1f1\",\n",
    "    \"FIO-ESM-2-0\": \"r1i1p1f1\",\n",
    "    \"CanESM5\": \"r1i1p2f1\",\n",
    "    \"FGOALS-f3-L\": \"r1i1p1f1\",\n",
    "    \"CNRM-ESM2-1\": \"r1i1p1f2\",\n",
    "}"
   ]
  },
  {
   "cell_type": "code",
   "execution_count": null,
   "id": "5be19be6-8637-48a4-8f12-87793937697d",
   "metadata": {},
   "outputs": [],
   "source": [
    "models = cmip6_output_df.climate_model.unique()"
   ]
  },
  {
   "cell_type": "code",
   "execution_count": null,
   "id": "55f63cbc-4b4d-413d-8b90-d2778150f234",
   "metadata": {},
   "outputs": [],
   "source": [
    "tas_cmip6 = {}\n",
    "for model in models:\n",
    "    if model in multi_runs:\n",
    "        tas_cmip6[model] = cmip6_output_df.loc[\n",
    "            (cmip6_output_df['climate_model']==model) & \n",
    "            (cmip6_output_df['member_id']==multi_runs[model]) & \n",
    "            (cmip6_output_df['variable']=='tas'), \n",
    "            'X1850':'X1999'\n",
    "        ].values.squeeze()\n",
    "    else:\n",
    "        tas_cmip6[model] = cmip6_output_df.loc[\n",
    "            (cmip6_output_df['climate_model']==model) & \n",
    "            (cmip6_output_df['variable']=='tas'), \n",
    "            'X1850':'X1999'\n",
    "        ].values.squeeze()"
   ]
  },
  {
   "cell_type": "code",
   "execution_count": null,
   "id": "e3b32d3f-19c6-4ab4-8aa1-036921fae959",
   "metadata": {},
   "outputs": [],
   "source": [
    "ebm_fits_df = pd.read_csv('../data/calibration/v1.4.1/4xCO2_cummins_ebm3_cmip6.csv')\n",
    "ebm_fits_df.head()"
   ]
  },
  {
   "cell_type": "code",
   "execution_count": null,
   "id": "f140d3c1-7f89-4426-a245-a1dabe7927eb",
   "metadata": {},
   "outputs": [],
   "source": [
    "# run 150 year 4xCO2 with the calibrations\n",
    "ebm3 = {}\n",
    "for isp, model in enumerate(models):\n",
    "    print(model)\n",
    "    if model in multi_runs:\n",
    "        params = ebm_fits_df.loc[\n",
    "            (ebm_fits_df['model']==model) &\n",
    "            (ebm_fits_df['run']==multi_runs[model]),\n",
    "            'gamma':\n",
    "        ]\n",
    "    else:\n",
    "        params = ebm_fits_df.loc[ebm_fits_df['model']==model, 'gamma':]\n",
    "    ebm3[model] = EnergyBalanceModel(\n",
    "        ocean_heat_capacity=[params[\"C1\"].values[0], params[\"C2\"].values[0], params[\"C3\"].values[0]],\n",
    "        ocean_heat_transfer=[params[\"kappa1\"].values[0], params[\"kappa2\"].values[0], params[\"kappa3\"].values[0]],\n",
    "        deep_ocean_efficacy=params[\"epsilon\"].values[0],\n",
    "        gamma_autocorrelation=params[\"gamma\"].values[0],\n",
    "        sigma_xi=params[\"sigma_xi\"].values[0],\n",
    "        sigma_eta=params[\"sigma_eta\"].values[0],\n",
    "        forcing_4co2=params[\"F_4xCO2\"].values[0],\n",
    "        stochastic_run=True,\n",
    "        seed=10000 * isp + 700  # reproducibility, but a different stochastic seed per model\n",
    "    )\n",
    "    ebm3[model].add_forcing(np.ones(151) * params[\"F_4xCO2\"].values[0], timestep=1)\n",
    "    ebm3[model].run()"
   ]
  },
  {
   "cell_type": "code",
   "execution_count": null,
   "id": "ea7d466a-7bc8-4474-ab33-d3c4c1781a55",
   "metadata": {},
   "outputs": [],
   "source": [
    "ebm3[\"GISS-E2-1-H\"].temperature"
   ]
  },
  {
   "cell_type": "code",
   "execution_count": null,
   "id": "534fba29-d2ee-4487-915b-1a690d2a5d67",
   "metadata": {},
   "outputs": [],
   "source": [
    "# font.size           : 12\n",
    "# font.family         : Arial\n",
    "# ytick.direction     : in\n",
    "# ytick.minor.visible : True\n",
    "# ytick.major.right   : True\n",
    "# ytick.right         : True\n",
    "# xtick.direction     : in\n",
    "# xtick.minor.visible : True\n",
    "# xtick.major.top     : True\n",
    "# xtick.top           : True\n",
    "# axes.spines.top     : True\n",
    "# axes.spines.bottom  : True\n",
    "# figure.dpi          : 150\n",
    "pl.rcParams['font.size'] = 7\n",
    "pl.rcParams['ytick.major.right'] = True\n",
    "pl.rcParams['ytick.right'] = True\n",
    "pl.rcParams['xtick.major.top'] = True\n",
    "pl.rcParams['xtick.top'] = True\n",
    "pl.rcParams['xtick.direction'] = 'in'\n",
    "pl.rcParams['ytick.direction'] = 'in'"
   ]
  },
  {
   "cell_type": "code",
   "execution_count": null,
   "id": "80cfffb3-488a-4e00-bd6a-96e612c3f83e",
   "metadata": {},
   "outputs": [],
   "source": [
    "fig, ax = pl.subplots(7, 7, figsize=(18/2.54, 18/2.54))\n",
    "for isp, model in enumerate(sorted(models)):\n",
    "    row = isp//7\n",
    "    col = isp%7\n",
    "    label1 = 'CMIP6' if model=='UKESM1-0-LL' else ''\n",
    "    label2 = 'FaIR' if model=='UKESM1-0-LL' else ''\n",
    "    ax[row, col].plot(np.arange(0.5, 150), tas_cmip6[model], color='r', label=label1)\n",
    "    ax[row, col].plot(np.arange(151), ebm3[model].temperature[:, 0], color='k', label=label2)\n",
    "    ax[row, col].set_xlim(0,150)\n",
    "    ax[row, col].set_ylim(0, 10)\n",
    "    ax[row, col].text(75, 8.5, model, fontsize=6, ha='center', va='bottom', fontweight='bold')\n",
    "    ax[row, col].set_xticks([0, 50, 100, 150])\n",
    "    ax[row, col].set_yticks([0, 2, 4, 6, 8, 10])\n",
    "    if row<6 or col%2==1:\n",
    "        ax[row, col].set_xticklabels([])\n",
    "    if col>0 or row%2==1:\n",
    "        ax[row, col].set_yticklabels([])\n",
    "ax[6,3].set_xlabel('Year')\n",
    "ax[3,0].set_ylabel('°C')\n",
    "ax[6,6].legend(loc='lower right', frameon=False)\n",
    "fig.tight_layout()\n",
    "pl.subplots_adjust(wspace=0, hspace=0)\n",
    "\n",
    "os.makedirs('../plots/', exist_ok=True)\n",
    "pl.savefig('../plots/ebm3_150.png')\n",
    "pl.savefig('../plots/ebm3_150.pdf')"
   ]
  },
  {
   "cell_type": "code",
   "execution_count": null,
   "id": "6226912d-3697-48ff-9dfe-bd64cd29a685",
   "metadata": {},
   "outputs": [],
   "source": []
  }
 ],
 "metadata": {
  "kernelspec": {
   "display_name": ".conda-fair-calibrate-v1.4-comparison Python (Conda)",
   "language": "python",
   "name": "conda-env-.conda-fair-calibrate-v1.4-comparison-py"
  },
  "language_info": {
   "codemirror_mode": {
    "name": "ipython",
    "version": 3
   },
   "file_extension": ".py",
   "mimetype": "text/x-python",
   "name": "python",
   "nbconvert_exporter": "python",
   "pygments_lexer": "ipython3",
   "version": "3.12.1"
  }
 },
 "nbformat": 4,
 "nbformat_minor": 5
}
