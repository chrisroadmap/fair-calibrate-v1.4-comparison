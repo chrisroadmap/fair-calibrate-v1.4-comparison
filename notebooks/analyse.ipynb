{
 "cells": [
  {
   "cell_type": "markdown",
   "id": "00107b6f-0eb0-4676-88d8-5e82a71cb0e8",
   "metadata": {},
   "source": [
    "# Do analysis"
   ]
  },
  {
   "cell_type": "code",
   "execution_count": null,
   "id": "baf3b7c2-caac-46ae-9996-1fe235666e7a",
   "metadata": {},
   "outputs": [],
   "source": [
    "import os\n",
    "\n",
    "from dotenv import load_dotenv\n",
    "import matplotlib.pyplot as pl\n",
    "import numpy as np\n",
    "import xarray as xr"
   ]
  },
  {
   "cell_type": "code",
   "execution_count": null,
   "id": "1aa29da8-e32b-4e52-baa3-341ba4a9cb48",
   "metadata": {},
   "outputs": [],
   "source": [
    "load_dotenv()\n",
    "datadir = os.getenv(\"DATADIR\")"
   ]
  },
  {
   "cell_type": "code",
   "execution_count": null,
   "id": "893eae2c-a017-4120-9b6e-760920db9519",
   "metadata": {},
   "outputs": [],
   "source": [
    "ds_141 = xr.load_dataset(os.path.join(datadir, \"calibration_v1.4.1.nc\"))"
   ]
  },
  {
   "cell_type": "code",
   "execution_count": null,
   "id": "cb3ddc7f-a25f-46bf-b260-937b0322c8c0",
   "metadata": {},
   "outputs": [],
   "source": [
    "ds_140 = xr.load_dataset(os.path.join(datadir, \"calibration_v1.4.0.nc\"))"
   ]
  },
  {
   "cell_type": "code",
   "execution_count": null,
   "id": "9ec50c04-b1a7-48f5-acfe-5b378a32ee52",
   "metadata": {},
   "outputs": [],
   "source": [
    "ds_140"
   ]
  },
  {
   "cell_type": "code",
   "execution_count": null,
   "id": "4289ce24-a614-46bd-8321-05df6fdf8ddb",
   "metadata": {},
   "outputs": [],
   "source": [
    "weight51 = np.ones(52)\n",
    "weight51[0] = 0.5\n",
    "weight51[-1] = 0.5"
   ]
  },
  {
   "cell_type": "code",
   "execution_count": null,
   "id": "11b74331-8246-4d00-92c6-376770e14d03",
   "metadata": {},
   "outputs": [],
   "source": [
    "pl.fill_between(\n",
    "    ds_140.timebound, (\n",
    "        ds_140.temperature.loc[dict(layer=0, scenario='ssp119')] -\n",
    "        np.average(ds_140.temperature.loc[dict(layer=0, scenario='ssp119', timebound=np.arange(1850, 1902))], weights=weight51, axis=0)\n",
    "    ).quantile(0.05, dim='config'), (\n",
    "        ds_140.temperature.loc[dict(layer=0, scenario='ssp119')] -\n",
    "        np.average(ds_140.temperature.loc[dict(layer=0, scenario='ssp119', timebound=np.arange(1850, 1902))], weights=weight51, axis=0)\n",
    "    ).quantile(0.95, dim='config'),\n",
    "    color='k',\n",
    "    alpha=0.1,\n",
    "    lw=0\n",
    ");\n",
    "pl.plot(\n",
    "    ds_140.timebound, (\n",
    "        ds_140.temperature.loc[dict(layer=0, scenario='ssp119')] -\n",
    "        np.average(ds_140.temperature.loc[dict(layer=0, scenario='ssp119', timebound=np.arange(1850, 1902))], weights=weight51, axis=0)\n",
    "    ).median(dim='config'),\n",
    "    color='k',\n",
    "    label='v1.4.0'\n",
    ");\n",
    "\n",
    "pl.fill_between(\n",
    "    ds_141.timebound, (\n",
    "        ds_141.temperature.loc[dict(layer=0, scenario='ssp119')] -\n",
    "        np.average(ds_141.temperature.loc[dict(layer=0, scenario='ssp119', timebound=np.arange(1850, 1902))], weights=weight51, axis=0)\n",
    "    ).quantile(0.05, dim='config'), (\n",
    "        ds_141.temperature.loc[dict(layer=0, scenario='ssp119')] -\n",
    "        np.average(ds_141.temperature.loc[dict(layer=0, scenario='ssp119', timebound=np.arange(1850, 1902))], weights=weight51, axis=0)\n",
    "    ).quantile(0.95, dim='config'),\n",
    "    color='r',\n",
    "    alpha=0.1,\n",
    "    lw=0\n",
    ");\n",
    "pl.plot(\n",
    "    ds_141.timebound, (\n",
    "        ds_141.temperature.loc[dict(layer=0, scenario='ssp119')] -\n",
    "        np.average(ds_141.temperature.loc[dict(layer=0, scenario='ssp119', timebound=np.arange(1850, 1902))], weights=weight51, axis=0)\n",
    "    ).median(dim='config'),\n",
    "    color='r',\n",
    "    label='v1.4.1'\n",
    ");\n",
    "pl.legend()\n",
    "#pl.xlim(2000, 2040)\n",
    "#pl.ylim(0.7, 1.8)\n",
    "pl.title('SSP1-1.9 median warming')"
   ]
  },
  {
   "cell_type": "code",
   "execution_count": null,
   "id": "3a9ef744-412b-4f22-b82d-d0a997cc751c",
   "metadata": {},
   "outputs": [],
   "source": [
    "pl.plot(\n",
    "    ds_140.timebound, (\n",
    "        ds_140.forcing.loc[dict(specie='Aerosol-cloud interactions', scenario='ssp119')] +\n",
    "        ds_140.forcing.loc[dict(specie='Aerosol-radiation interactions', scenario='ssp119')]\n",
    "    ).median(dim='config'),\n",
    "    color='k',\n",
    "    label='v1.4.0 (RCMIP)'\n",
    ");\n",
    "pl.plot(\n",
    "    ds_141.timebound, (\n",
    "        ds_141.forcing.loc[dict(specie='Aerosol-cloud interactions', scenario='ssp119')] +\n",
    "        ds_141.forcing.loc[dict(specie='Aerosol-radiation interactions', scenario='ssp119')]\n",
    "    ).median(dim='config'),\n",
    "    color='r',\n",
    "    label='v1.4.1 (CEDS)'\n",
    ");\n",
    "pl.xlim(1850, 2100)\n",
    "pl.ylim(-1.5, 0)\n",
    "pl.legend()\n",
    "pl.title('SSP1-1.9 median aerosol forcing')"
   ]
  },
  {
   "cell_type": "code",
   "execution_count": null,
   "id": "99e210b4-876e-404c-b535-af736605ad74",
   "metadata": {},
   "outputs": [],
   "source": [
    "pl.fill_between(\n",
    "    ds_140.timebound,\n",
    "    ds_140.concentration.loc[dict(specie='CO2', scenario='ssp119')].quantile(0.05, dim='config'),\n",
    "    ds_140.concentration.loc[dict(specie='CO2', scenario='ssp119')].quantile(0.95, dim='config'),\n",
    "    color='k',\n",
    "    alpha=0.1,\n",
    "    lw=0\n",
    ");\n",
    "pl.plot(\n",
    "    ds_140.timebound, (\n",
    "        ds_140.concentration.loc[dict(specie='CO2', scenario='ssp119')]\n",
    "    ).median(dim='config'),\n",
    "    color='k',\n",
    "    label='v1.4.0 (RCMIP)'\n",
    ");\n",
    "\n",
    "pl.fill_between(\n",
    "    ds_141.timebound,\n",
    "    ds_141.concentration.loc[dict(specie='CO2', scenario='ssp119')].quantile(0.05, dim='config'),\n",
    "    ds_141.concentration.loc[dict(specie='CO2', scenario='ssp119')].quantile(0.95, dim='config'),\n",
    "    color='r',\n",
    "    alpha=0.1,\n",
    "    lw=0\n",
    ");\n",
    "pl.plot(\n",
    "    ds_141.timebound, (\n",
    "        ds_141.concentration.loc[dict(specie='CO2', scenario='ssp119')]\n",
    "    ).median(dim='config'),\n",
    "    color='r',\n",
    "    label='v1.4.1 (GCP)'\n",
    ");\n",
    "pl.xlim(1750, 2100)\n",
    "pl.legend()\n",
    "pl.title('SSP1-1.9 median CO2 concentration')"
   ]
  },
  {
   "cell_type": "code",
   "execution_count": null,
   "id": "9583aa41-152c-43df-a521-66a1233dc93a",
   "metadata": {},
   "outputs": [],
   "source": [
    "pl.fill_between(\n",
    "    ds_140.timebound,\n",
    "    ds_140.concentration.loc[dict(specie='CO2', scenario='ssp585')].quantile(0.05, dim='config'),\n",
    "    ds_140.concentration.loc[dict(specie='CO2', scenario='ssp585')].quantile(0.95, dim='config'),\n",
    "    color='k',\n",
    "    alpha=0.1,\n",
    "    lw=0\n",
    ");\n",
    "pl.plot(\n",
    "    ds_140.timebound, (\n",
    "        ds_140.concentration.loc[dict(specie='CO2', scenario='ssp585')]\n",
    "    ).median(dim='config'),\n",
    "    color='k',\n",
    "    label='v1.4.0 (RCMIP)'\n",
    ");\n",
    "\n",
    "pl.fill_between(\n",
    "    ds_141.timebound,\n",
    "    ds_141.concentration.loc[dict(specie='CO2', scenario='ssp585')].quantile(0.05, dim='config'),\n",
    "    ds_141.concentration.loc[dict(specie='CO2', scenario='ssp585')].quantile(0.95, dim='config'),\n",
    "    color='r',\n",
    "    alpha=0.1,\n",
    "    lw=0\n",
    ");\n",
    "pl.plot(\n",
    "    ds_141.timebound, (\n",
    "        ds_141.concentration.loc[dict(specie='CO2', scenario='ssp585')]\n",
    "    ).median(dim='config'),\n",
    "    color='r',\n",
    "    label='v1.4.1 (GCP)'\n",
    ");\n",
    "\n",
    "pl.xlim(1850, 2100)\n",
    "pl.ylim(200, 1200)\n",
    "pl.legend()\n",
    "pl.title('SSP5-8.5 median CO2 concentration')"
   ]
  },
  {
   "cell_type": "code",
   "execution_count": null,
   "id": "2f61a270-125e-4a22-8b4c-09bf86524b6f",
   "metadata": {},
   "outputs": [],
   "source": [
    "pl.plot(\n",
    "    ds_140.timepoint, (\n",
    "        ds_140.emissions.loc[dict(specie='CO2', scenario='ssp119', config=0)]\n",
    "    ),\n",
    "    color='k',\n",
    "    label='v1.4.0 (RCMIP)'\n",
    ");\n",
    "pl.plot(\n",
    "    ds_141.timepoint, (\n",
    "        ds_141.emissions.loc[dict(specie='CO2', scenario='ssp119', config=0)]\n",
    "    ),\n",
    "    color='r',\n",
    "    label='v1.4.1 (GCP)'\n",
    ");\n"
   ]
  },
  {
   "cell_type": "code",
   "execution_count": null,
   "id": "f45a1c36-193e-4194-8902-399fa8686d6f",
   "metadata": {},
   "outputs": [],
   "source": [
    "f.emissions[250, :, 0, 0]\n",
    "# differences in ssp119 CO2 FFI\n",
    "pl.plot(np.arange(1950.5, 2050), f.emissions[200:300, 0, 0, 0], label='ssp119_v1.4.1 (GCP 2023)')\n",
    "pl.plot(np.arange(1950.5, 2050), f.emissions[200:300, 8, 0, 0], label='ssp119_v1.4.0 (RCMIP)')\n",
    "pl.legend()\n",
    "# differences in ssp119 CO2 AFOLU\n",
    "pl.plot(np.arange(1950.5, 2050), f.emissions[200:300, 0, 0, 1], label='ssp119_v1.4.1 (GCP 2023)')\n",
    "pl.plot(np.arange(1950.5, 2050), f.emissions[200:300, 8, 0, 1], label='ssp119_v1.4.0 (RCMIP)')\n",
    "pl.legend()\n",
    "# differences in ssp119 CO2 total\n",
    "pl.plot(np.arange(1950.5, 2050), f.emissions[200:300, 0, 0, 0:2].sum(axis=-1), label='ssp119_v1.4.1 (GCP 2023)')\n",
    "pl.plot(np.arange(1950.5, 2050), f.emissions[200:300, 8, 0, 0:2].sum(axis=-1), label='ssp119_v1.4.0 (RCMIP)')\n",
    "pl.legend()\n",
    "# differences in ssp119 cumulative CO2 total\n",
    "pl.plot(np.arange(1750.5, 2050), np.cumsum(f.emissions[:300, 0, 0, 0:2].sum(axis=-1), axis=0), label='ssp119_v1.4.1 (GCP 2023)')\n",
    "pl.plot(np.arange(1750.5, 2050), np.cumsum(f.emissions[:300, 8, 0, 0:2].sum(axis=-1), axis=0), label='ssp119_v1.4.0 (RCMIP)')\n",
    "pl.legend()"
   ]
  }
 ],
 "metadata": {
  "kernelspec": {
   "display_name": "Python 3 (ipykernel)",
   "language": "python",
   "name": "python3"
  },
  "language_info": {
   "codemirror_mode": {
    "name": "ipython",
    "version": 3
   },
   "file_extension": ".py",
   "mimetype": "text/x-python",
   "name": "python",
   "nbconvert_exporter": "python",
   "pygments_lexer": "ipython3",
   "version": "3.12.0"
  }
 },
 "nbformat": 4,
 "nbformat_minor": 5
}
