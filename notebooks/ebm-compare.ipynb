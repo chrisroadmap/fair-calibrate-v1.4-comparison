{
 "cells": [
  {
   "cell_type": "markdown",
   "id": "1ac95557-15f6-46bb-9d83-2c979bb74aea",
   "metadata": {},
   "source": [
    "# Show theoretical versus actual TCR"
   ]
  },
  {
   "cell_type": "code",
   "execution_count": null,
   "id": "e4cde2fc-bbd4-432e-8f1b-dfa4a9bfd399",
   "metadata": {},
   "outputs": [],
   "source": [
    "import os\n",
    "\n",
    "import matplotlib.pyplot as pl\n",
    "import numpy as np\n",
    "import pandas as pd\n",
    "from dotenv import load_dotenv\n",
    "from fair import __version__\n",
    "from fair.energy_balance_model import multi_ebm\n",
    "from fair import FAIR\n",
    "from fair.interface import fill, initialise\n",
    "from fair.io import read_properties\n",
    "import xarray as xr"
   ]
  },
  {
   "cell_type": "code",
   "execution_count": null,
   "id": "907fc748-8ccf-4114-819f-c911be03e04b",
   "metadata": {},
   "outputs": [],
   "source": [
    "load_dotenv(override=True)\n",
    "datadir = os.getenv(\"DATADIR\")\n",
    "os.makedirs(datadir, exist_ok=True)"
   ]
  },
  {
   "cell_type": "code",
   "execution_count": null,
   "id": "e02a0d8f-606e-46ac-ab02-7ade37ade0c2",
   "metadata": {},
   "outputs": [],
   "source": [
    "pl.style.use('../defaults.mplstyle')"
   ]
  },
  {
   "cell_type": "markdown",
   "id": "31f5ba9d-9376-4671-805b-478fb0abc095",
   "metadata": {},
   "source": [
    "## run 1pct"
   ]
  },
  {
   "cell_type": "code",
   "execution_count": null,
   "id": "a3c1cd7f-f788-4bd9-b77f-23cf4d9b027d",
   "metadata": {},
   "outputs": [],
   "source": [
    "output_ensemble_size=841"
   ]
  },
  {
   "cell_type": "code",
   "execution_count": null,
   "id": "50ca0387-0450-4bf5-b9b4-c624685f7698",
   "metadata": {},
   "outputs": [],
   "source": [
    "scenarios = ['1pctCO2']"
   ]
  },
  {
   "cell_type": "code",
   "execution_count": null,
   "id": "312af3a2-6e4e-4265-bd8f-1d0ab6650c7a",
   "metadata": {},
   "outputs": [],
   "source": [
    "df_configs_141 = pd.read_csv(\n",
    "    \"../data/calibration/v1.4.1/calibrated_constrained_parameters.csv\",\n",
    "    index_col=0,\n",
    ")\n",
    "df_configs_141.columns"
   ]
  },
  {
   "cell_type": "code",
   "execution_count": null,
   "id": "557351c0-17d1-4478-8b20-7ed91e48f3b1",
   "metadata": {},
   "outputs": [],
   "source": [
    "configs = list(range(output_ensemble_size))"
   ]
  },
  {
   "cell_type": "code",
   "execution_count": null,
   "id": "b48d1d7f-11e5-40c1-b301-e8a8a3e6c5ec",
   "metadata": {},
   "outputs": [],
   "source": [
    "species, properties = read_properties()"
   ]
  },
  {
   "cell_type": "code",
   "execution_count": null,
   "id": "28aa2370-f18d-4ab1-8108-8f9f2716f659",
   "metadata": {},
   "outputs": [],
   "source": [
    "da_concentration = xr.load_dataarray(\n",
    "    \"../data/concentrations/1pctCO2_concentration_1850-1990.nc\"\n",
    ")"
   ]
  },
  {
   "cell_type": "code",
   "execution_count": null,
   "id": "8762c5f8-1f67-4df7-bacc-dcb751485190",
   "metadata": {},
   "outputs": [],
   "source": [
    "f = FAIR()\n",
    "f.define_time(1850, 1990, 1)\n",
    "f.define_scenarios(scenarios)\n",
    "species = [\"CO2\", \"CH4\", \"N2O\"]\n",
    "properties = {\n",
    "    \"CO2\": {\n",
    "        \"type\": \"co2\",\n",
    "        \"input_mode\": \"concentration\",\n",
    "        \"greenhouse_gas\": True,\n",
    "        \"aerosol_chemistry_from_emissions\": False,\n",
    "        \"aerosol_chemistry_from_concentration\": False,\n",
    "    },\n",
    "    \"CH4\": {\n",
    "        \"type\": \"ch4\",\n",
    "        \"input_mode\": \"concentration\",\n",
    "        \"greenhouse_gas\": True,\n",
    "        \"aerosol_chemistry_from_emissions\": False,\n",
    "        \"aerosol_chemistry_from_concentration\": False,\n",
    "    },\n",
    "    \"N2O\": {\n",
    "        \"type\": \"n2o\",\n",
    "        \"input_mode\": \"concentration\",\n",
    "        \"greenhouse_gas\": True,\n",
    "        \"aerosol_chemistry_from_emissions\": False,\n",
    "        \"aerosol_chemistry_from_concentration\": False,\n",
    "    },\n",
    "}\n",
    "f.define_configs(configs)\n",
    "f.define_species(species, properties)\n",
    "f.allocate()"
   ]
  },
  {
   "cell_type": "code",
   "execution_count": null,
   "id": "f563ede4-3d7c-47ac-8413-9164df87c5df",
   "metadata": {},
   "outputs": [],
   "source": [
    "da = da_concentration.loc[dict(config=\"unspecified\", scenario=\"1pctCO2\")]\n",
    "fe = da.expand_dims(dim=[\"scenario\", \"config\"], axis=(1, 2))\n",
    "f.concentration = fe.drop_vars(\"config\") * np.ones((1, 1, output_ensemble_size, 1))"
   ]
  },
  {
   "cell_type": "code",
   "execution_count": null,
   "id": "b20c04af-0082-4fca-9bda-ee8545e03032",
   "metadata": {},
   "outputs": [],
   "source": [
    "fill(\n",
    "    f.climate_configs[\"ocean_heat_capacity\"],\n",
    "    df_configs_141.loc[:, \"clim_c1\":\"clim_c3\"].values\n",
    ")\n",
    "fill(\n",
    "    f.climate_configs[\"ocean_heat_transfer\"],\n",
    "    df_configs_141.loc[:, \"clim_kappa1\":\"clim_kappa3\"].values\n",
    ")\n",
    "fill(f.climate_configs[\"deep_ocean_efficacy\"], df_configs_141[\"clim_epsilon\"].values.squeeze())\n",
    "fill(f.climate_configs[\"gamma_autocorrelation\"], df_configs_141[\"clim_gamma\"].values.squeeze())\n",
    "fill(f.climate_configs[\"stochastic_run\"], False)\n",
    "fill(f.climate_configs[\"forcing_4co2\"], df_configs_141[\"clim_F_4xCO2\"].values.squeeze())\n",
    "\n",
    "# species level\n",
    "f.fill_species_configs()\n",
    "\n",
    "# carbon cycle\n",
    "fill(f.species_configs[\"iirf_0\"], df_configs_141[\"cc_r0\"].values.squeeze(), specie=\"CO2\")\n",
    "fill(f.species_configs[\"iirf_airborne\"], df_configs_141[\"cc_rA\"].values.squeeze(), specie=\"CO2\")\n",
    "fill(f.species_configs[\"iirf_uptake\"], df_configs_141[\"cc_rU\"].values.squeeze(), specie=\"CO2\")\n",
    "fill(f.species_configs[\"iirf_temperature\"], df_configs_141[\"cc_rT\"].values.squeeze(), specie=\"CO2\")\n",
    "\n",
    "# forcing scaling\n",
    "fill(f.species_configs[\"forcing_scale\"], df_configs_141[\"fscale_CO2\"].values.squeeze(), specie=\"CO2\")\n",
    "fill(f.species_configs[\"forcing_scale\"], df_configs_141[\"fscale_CH4\"].values.squeeze(), specie=\"CH4\")\n",
    "fill(f.species_configs[\"forcing_scale\"], df_configs_141[\"fscale_N2O\"].values.squeeze(), specie=\"N2O\")\n",
    "\n",
    "# initial condition of CO2 concentration (but not baseline for forcing calculations)\n",
    "fill(f.species_configs[\"baseline_concentration\"], 284.3169988, specie=\"CO2\")\n",
    "fill(f.species_configs[\"baseline_concentration\"], 808.2490285, specie=\"CH4\")\n",
    "fill(f.species_configs[\"baseline_concentration\"], 273.021047, specie=\"N2O\")\n",
    "\n",
    "fill(\n",
    "    f.species_configs[\"forcing_reference_concentration\"], 284.3169988, specie=\"CO2\"\n",
    ")\n",
    "fill(\n",
    "    f.species_configs[\"forcing_reference_concentration\"], 808.2490285, specie=\"CH4\"\n",
    ")\n",
    "fill(f.species_configs[\"forcing_reference_concentration\"], 273.021047, specie=\"N2O\")\n",
    "\n",
    "# initial conditions\n",
    "initialise(f.concentration, f.species_configs[\"baseline_concentration\"])\n",
    "initialise(f.forcing, 0)\n",
    "initialise(f.temperature, 0)\n",
    "initialise(f.cumulative_emissions, 0)\n",
    "initialise(f.airborne_emissions, 0)"
   ]
  },
  {
   "cell_type": "code",
   "execution_count": null,
   "id": "bb90fc74-daea-465a-9c60-52561583ce68",
   "metadata": {},
   "outputs": [],
   "source": [
    "f.run()"
   ]
  },
  {
   "cell_type": "code",
   "execution_count": null,
   "id": "b93c9c53-5d99-4278-b6ed-490c8063a8b6",
   "metadata": {},
   "outputs": [],
   "source": [
    "tcr_yr70 = f.temperature[70, 0, :, 0]"
   ]
  },
  {
   "cell_type": "markdown",
   "id": "96021d7e-d4b1-46ce-bc4c-11fa78cf2a44",
   "metadata": {},
   "source": [
    "## abrupt 4xCO2"
   ]
  },
  {
   "cell_type": "code",
   "execution_count": null,
   "id": "34f92d93-e4d8-4ed4-b19f-a690b871d809",
   "metadata": {},
   "outputs": [],
   "source": [
    "f = FAIR()\n",
    "f.define_time(0, 4000, 1)\n",
    "f.define_scenarios(scenarios)\n",
    "species = [\"CO2\", \"CH4\", \"N2O\"]\n",
    "properties = {\n",
    "    \"CO2\": {\n",
    "        \"type\": \"co2\",\n",
    "        \"input_mode\": \"concentration\",\n",
    "        \"greenhouse_gas\": True,\n",
    "        \"aerosol_chemistry_from_emissions\": False,\n",
    "        \"aerosol_chemistry_from_concentration\": False,\n",
    "    },\n",
    "    \"CH4\": {\n",
    "        \"type\": \"ch4\",\n",
    "        \"input_mode\": \"concentration\",\n",
    "        \"greenhouse_gas\": True,\n",
    "        \"aerosol_chemistry_from_emissions\": False,\n",
    "        \"aerosol_chemistry_from_concentration\": False,\n",
    "    },\n",
    "    \"N2O\": {\n",
    "        \"type\": \"n2o\",\n",
    "        \"input_mode\": \"concentration\",\n",
    "        \"greenhouse_gas\": True,\n",
    "        \"aerosol_chemistry_from_emissions\": False,\n",
    "        \"aerosol_chemistry_from_concentration\": False,\n",
    "    },\n",
    "}\n",
    "f.define_configs(configs)\n",
    "f.define_species(species, properties)\n",
    "f.allocate()"
   ]
  },
  {
   "cell_type": "code",
   "execution_count": null,
   "id": "ce71d86a-225d-45ad-a552-904022b2baf6",
   "metadata": {},
   "outputs": [],
   "source": [
    "f.concentration[:, 0, :, 0] = 284.3169988 * 2\n",
    "f.concentration[:, 0, :, 1] = 808.2490285\n",
    "f.concentration[:, 0, :, 2] = 273.021047"
   ]
  },
  {
   "cell_type": "code",
   "execution_count": null,
   "id": "9e1729ff-3fb0-49df-a258-017bcdb9f791",
   "metadata": {},
   "outputs": [],
   "source": [
    "fill(\n",
    "    f.climate_configs[\"ocean_heat_capacity\"],\n",
    "    df_configs_141.loc[:, \"clim_c1\":\"clim_c3\"].values\n",
    ")\n",
    "fill(\n",
    "    f.climate_configs[\"ocean_heat_transfer\"],\n",
    "    df_configs_141.loc[:, \"clim_kappa1\":\"clim_kappa3\"].values\n",
    ")\n",
    "fill(f.climate_configs[\"deep_ocean_efficacy\"], df_configs_141[\"clim_epsilon\"].values.squeeze())\n",
    "fill(f.climate_configs[\"gamma_autocorrelation\"], df_configs_141[\"clim_gamma\"].values.squeeze())\n",
    "fill(f.climate_configs[\"stochastic_run\"], False)\n",
    "fill(f.climate_configs[\"forcing_4co2\"], df_configs_141[\"clim_F_4xCO2\"].values.squeeze())\n",
    "\n",
    "# species level\n",
    "f.fill_species_configs()\n",
    "\n",
    "# carbon cycle\n",
    "fill(f.species_configs[\"iirf_0\"], df_configs_141[\"cc_r0\"].values.squeeze(), specie=\"CO2\")\n",
    "fill(f.species_configs[\"iirf_airborne\"], df_configs_141[\"cc_rA\"].values.squeeze(), specie=\"CO2\")\n",
    "fill(f.species_configs[\"iirf_uptake\"], df_configs_141[\"cc_rU\"].values.squeeze(), specie=\"CO2\")\n",
    "fill(f.species_configs[\"iirf_temperature\"], df_configs_141[\"cc_rT\"].values.squeeze(), specie=\"CO2\")\n",
    "\n",
    "# forcing scaling\n",
    "fill(f.species_configs[\"forcing_scale\"], df_configs_141[\"fscale_CO2\"].values.squeeze(), specie=\"CO2\")\n",
    "fill(f.species_configs[\"forcing_scale\"], df_configs_141[\"fscale_CH4\"].values.squeeze(), specie=\"CH4\")\n",
    "fill(f.species_configs[\"forcing_scale\"], df_configs_141[\"fscale_N2O\"].values.squeeze(), specie=\"N2O\")\n",
    "\n",
    "# initial condition of CO2 concentration (but not baseline for forcing calculations)\n",
    "fill(f.species_configs[\"baseline_concentration\"], 284.3169988, specie=\"CO2\")\n",
    "fill(f.species_configs[\"baseline_concentration\"], 808.2490285, specie=\"CH4\")\n",
    "fill(f.species_configs[\"baseline_concentration\"], 273.021047, specie=\"N2O\")\n",
    "\n",
    "fill(\n",
    "    f.species_configs[\"forcing_reference_concentration\"], 284.3169988, specie=\"CO2\"\n",
    ")\n",
    "fill(\n",
    "    f.species_configs[\"forcing_reference_concentration\"], 808.2490285, specie=\"CH4\"\n",
    ")\n",
    "fill(f.species_configs[\"forcing_reference_concentration\"], 273.021047, specie=\"N2O\")\n",
    "\n",
    "# initial conditions\n",
    "initialise(f.concentration, f.species_configs[\"baseline_concentration\"])\n",
    "initialise(f.forcing, 0)\n",
    "initialise(f.temperature, 0)\n",
    "initialise(f.cumulative_emissions, 0)\n",
    "initialise(f.airborne_emissions, 0)"
   ]
  },
  {
   "cell_type": "code",
   "execution_count": null,
   "id": "e1f302aa-f80e-4c8f-92fa-8c668950a213",
   "metadata": {},
   "outputs": [],
   "source": [
    "f.run()"
   ]
  },
  {
   "cell_type": "code",
   "execution_count": null,
   "id": "13981718-9690-49bf-986b-51716ce8b7d4",
   "metadata": {},
   "outputs": [],
   "source": [
    "ecs_yr4000 = f.temperature[4000, 0, :, 0]"
   ]
  },
  {
   "cell_type": "code",
   "execution_count": null,
   "id": "1526d4eb-b173-41cd-a272-f25369b92e68",
   "metadata": {},
   "outputs": [],
   "source": [
    "ebms = multi_ebm(\n",
    "    configs,\n",
    "    ocean_heat_capacity=df_configs_141.loc[:, \"clim_c1\":\"clim_c3\"].values,\n",
    "    ocean_heat_transfer=df_configs_141.loc[:, \"clim_kappa1\":\"clim_kappa3\"].values,\n",
    "    deep_ocean_efficacy=df_configs_141[\"clim_epsilon\"].values.squeeze(),\n",
    "    gamma_autocorrelation=df_configs_141[\"clim_gamma\"].values.squeeze(),\n",
    "    forcing_4co2=df_configs_141[\"clim_F_4xCO2\"].values.squeeze(),\n",
    "    stochastic_run=[False]*841,\n",
    "    sigma_eta=df_configs_141[\"clim_sigma_eta\"].values.squeeze(),\n",
    "    sigma_xi=df_configs_141[\"clim_sigma_xi\"].values.squeeze(),\n",
    "    seed=12,\n",
    "    use_seed=[False]*841,\n",
    "    timestep=1,\n",
    "    timebounds=[0, 1]\n",
    ")"
   ]
  },
  {
   "cell_type": "code",
   "execution_count": null,
   "id": "40cbc024-ca7e-46a1-8a49-76605bb56084",
   "metadata": {},
   "outputs": [],
   "source": [
    "ebms.ecs"
   ]
  },
  {
   "cell_type": "code",
   "execution_count": null,
   "id": "4e9d0117-54f1-4088-963d-2ae502ebc37d",
   "metadata": {},
   "outputs": [],
   "source": [
    "fig, ax = pl.subplots(1, 2, figsize=(18/2.54, 9/2.54))\n",
    "ax[0].scatter(ebms.ecs, ecs_yr4000)\n",
    "ax[0].plot(np.linspace(1, 8), np.linspace(1, 8), color='k')\n",
    "ax[0].set_xlim(1, 8)\n",
    "ax[0].set_ylim(1, 8)\n",
    "ax[0].set_xlabel('Theoretical ECS (°C)')\n",
    "ax[0].set_ylabel(r'abrupt-2$\\times$CO$_2$ warming year 4000 (°C)')\n",
    "ax[0].set_title('(a) Equilibrium climate sensitivity')\n",
    "ax[1].scatter(ebms.tcr, tcr_yr70)\n",
    "ax[1].plot(np.linspace(0.9, 3.5), np.linspace(0.9, 3.5), color='k')\n",
    "ax[1].set_xlim(0.9, 3.5)\n",
    "ax[1].set_ylim(0.9, 3.5)\n",
    "ax[1].set_xlabel('Theoretical TCR (°C)')\n",
    "ax[1].set_ylabel(r'1pctCO$_2$ warming year 70 (°C)')\n",
    "ax[1].set_title('(b) Transient climate response')\n",
    "fig.tight_layout()\n",
    "pl.savefig('../plots/ebm-compare.png')\n",
    "pl.savefig('../plots/ebm-compare.pdf')"
   ]
  },
  {
   "cell_type": "code",
   "execution_count": null,
   "id": "37c4c9cb-d02a-434d-8057-5987c106e8a5",
   "metadata": {},
   "outputs": [],
   "source": []
  }
 ],
 "metadata": {
  "kernelspec": {
   "display_name": ".conda-fair-calibrate-v1.4-comparison Python (Conda)",
   "language": "python",
   "name": "conda-env-.conda-fair-calibrate-v1.4-comparison-py"
  },
  "language_info": {
   "codemirror_mode": {
    "name": "ipython",
    "version": 3
   },
   "file_extension": ".py",
   "mimetype": "text/x-python",
   "name": "python",
   "nbconvert_exporter": "python",
   "pygments_lexer": "ipython3",
   "version": "3.12.1"
  }
 },
 "nbformat": 4,
 "nbformat_minor": 5
}
