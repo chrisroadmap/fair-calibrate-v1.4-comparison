{
 "cells": [
  {
   "cell_type": "markdown",
   "id": "0",
   "metadata": {},
   "source": [
    "# Harmonize original SSPs to 2023 start date\n",
    "\n",
    "Assume ssp245 was \"correct\" history and re-run from there."
   ]
  },
  {
   "cell_type": "code",
   "execution_count": null,
   "id": "1",
   "metadata": {},
   "outputs": [],
   "source": [
    "import datetime\n",
    "import os\n",
    "import warnings\n",
    "\n",
    "import aneris.convenience\n",
    "import numpy as np\n",
    "import pandas as pd\n",
    "import scmdata\n",
    "from dotenv import load_dotenv\n",
    "from fair import FAIR, __version__\n",
    "from fair.interface import fill\n",
    "from fair.io import read_properties\n",
    "from tqdm.auto import tqdm\n",
    "import xarray as xr"
   ]
  },
  {
   "cell_type": "code",
   "execution_count": null,
   "id": "2",
   "metadata": {},
   "outputs": [],
   "source": [
    "df_in = pd.read_csv(\n",
    "    \"../data/emissions/v1.4.0/historical_ssp245.csv\"\n",
    ")"
   ]
  },
  {
   "cell_type": "code",
   "execution_count": null,
   "id": "3",
   "metadata": {},
   "outputs": [],
   "source": [
    "variables = list(df_in[\"variable\"])\n",
    "units = list(df_in[\"unit\"])\n",
    "var_units = {var: unit for var, unit in zip(variables, units)}\n",
    "\n",
    "times = []\n",
    "years = range(1750, 2023)\n",
    "for year in years:\n",
    "    times.append(datetime.datetime(year, 1, 1))\n",
    "    # they are really midyears, but we just want this to work\n",
    "\n",
    "times_future = []\n",
    "years_future = range(2022, 2500)\n",
    "for year in years_future:\n",
    "    times_future.append(datetime.datetime(year, 1, 1))"
   ]
  },
  {
   "cell_type": "code",
   "execution_count": null,
   "id": "4",
   "metadata": {},
   "outputs": [],
   "source": [
    "history = (\n",
    "    scmdata.ScmRun(\n",
    "        \"../data/emissions/v1.4.0/historical_ssp245.csv\",\n",
    "        lowercase_cols=True,\n",
    "    )\n",
    "    .filter(region=\"World\", variable=variables)\n",
    "    .interpolate(target_times=times)\n",
    "    .timeseries(time_axis=\"year\")\n",
    ")"
   ]
  },
  {
   "cell_type": "code",
   "execution_count": null,
   "id": "5",
   "metadata": {},
   "outputs": [],
   "source": [
    "history"
   ]
  },
  {
   "cell_type": "code",
   "execution_count": null,
   "id": "6",
   "metadata": {},
   "outputs": [],
   "source": [
    "future = (\n",
    "    scmdata.ScmRun(\n",
    "        \"../data/emissions/v1.4.0/future.csv\",\n",
    "        lowercase_cols=True,\n",
    "    )\n",
    "    .filter(variable=variables, region=\"World\")\n",
    "    .interpolate(times_future)\n",
    "    .timeseries(time_axis=\"year\")\n",
    ")"
   ]
  },
  {
   "cell_type": "code",
   "execution_count": null,
   "id": "7",
   "metadata": {},
   "outputs": [],
   "source": [
    "future"
   ]
  },
  {
   "cell_type": "code",
   "execution_count": null,
   "id": "8",
   "metadata": {},
   "outputs": [],
   "source": [
    "# Harmonization overrides - use same as RCMIP\n",
    "overrides = pd.DataFrame(\n",
    "    [\n",
    "        {\n",
    "            \"method\": \"reduce_ratio_2150_cov\",\n",
    "            \"variable\": \"Emissions|C2F6\",\n",
    "        },  # high historical variance (cov=16.2)\n",
    "        {\n",
    "            \"method\": \"reduce_ratio_2150_cov\",\n",
    "            \"variable\": \"Emissions|C6F14\",\n",
    "        },  # high historical variance (cov=15.4)\n",
    "        {\n",
    "            \"method\": \"reduce_ratio_2150_cov\",\n",
    "            \"variable\": \"Emissions|CF4\",\n",
    "        },  # high historical variance (cov=11.2)\n",
    "        {\n",
    "            \"method\": \"reduce_ratio_2150_cov\",\n",
    "            \"variable\": \"Emissions|CO\",\n",
    "        },  # high historical variance (cov=15.4)\n",
    "        {\n",
    "            \"method\": \"reduce_ratio_2080\",\n",
    "            \"variable\": \"Emissions|CO2\",\n",
    "        },  # always ratio method by choice\n",
    "        {\n",
    "            \"method\": \"reduce_offset_2150_cov\",\n",
    "            \"variable\": \"Emissions|CO2|AFOLU\",\n",
    "        },  # high historical variance, but using offset method to prevent diff from\n",
    "        # increasing when going negative rapidly (cov=23.2)\n",
    "        {\n",
    "            \"method\": \"reduce_ratio_2080\",  # always ratio method by choice\n",
    "            \"variable\": \"Emissions|CO2|Energy and Industrial Processes\",\n",
    "        },\n",
    "        #     {'method': 'default_aneris_tree', 'variable': 'Emissions|CH4'},\n",
    "        # depending on the decision tree in aneris/method.py\n",
    "        {\n",
    "            \"method\": \"constant_ratio\",\n",
    "            \"variable\": \"Emissions|HFC-125\",\n",
    "        },  # minor f-gas with low model reporting confidence\n",
    "        {\n",
    "            \"method\": \"constant_ratio\",\n",
    "            \"variable\": \"Emissions|HFC-134a\",\n",
    "        },  # minor f-gas with low model reporting confidence\n",
    "        {\n",
    "            \"method\": \"constant_ratio\",\n",
    "            \"variable\": \"Emissions|HFC-143a\",\n",
    "        },  # minor f-gas with low model reporting confidence\n",
    "        {\n",
    "            \"method\": \"constant_ratio\",\n",
    "            \"variable\": \"Emissions|HFC-227ea\",\n",
    "        },  # minor f-gas with low model reporting confidence\n",
    "        {\n",
    "            \"method\": \"constant_ratio\",\n",
    "            \"variable\": \"Emissions|HFC-23\",\n",
    "        },  # minor f-gas with low model reporting confidence\n",
    "        {\n",
    "            \"method\": \"constant_ratio\",\n",
    "            \"variable\": \"Emissions|HFC-32\",\n",
    "        },  # minor f-gas with low model reporting confidence\n",
    "        {\n",
    "            \"method\": \"constant_ratio\",\n",
    "            \"variable\": \"Emissions|HFC-4310mee\",\n",
    "        },  # minor f-gas with low model reporting confidence\n",
    "        #     {'method': 'default_aneris_tree', 'variable': 'Emissions|N2O'},\n",
    "        # depending on the decision tree in aneris/method.py\n",
    "        #     {'method': 'default_aneris_tree', 'variable': 'Emissions|NH3'},\n",
    "        # depending on the decision tree in aneris/method.py\n",
    "        #     {'method': 'default_aneris_tree', 'variable': 'Emissions|NOx'},\n",
    "        # depending on the decision tree in aneris/method.py\n",
    "        {\n",
    "            \"method\": \"reduce_ratio_2150_cov\",\n",
    "            \"variable\": \"Emissions|OC\",\n",
    "        },  # high historical variance (cov=18.5)\n",
    "        {\n",
    "            \"method\": \"constant_ratio\",\n",
    "            \"variable\": \"Emissions|SF6\",\n",
    "        },  # minor f-gas with low model reporting confidence\n",
    "        #     {'method': 'default_aneris_tree', 'variable': 'Emissions|Sulfur'},\n",
    "        # depending on the decision tree in aneris/method.py\n",
    "        {\n",
    "            \"method\": \"reduce_ratio_2150_cov\",\n",
    "            \"variable\": \"Emissions|VOC\",\n",
    "        },  # high historical variance (cov=12.0)\n",
    "    ]\n",
    ")\n",
    "\n",
    "harmonisation_year = 2022"
   ]
  },
  {
   "cell_type": "code",
   "execution_count": null,
   "id": "9",
   "metadata": {},
   "outputs": [],
   "source": [
    "with warnings.catch_warnings():\n",
    "    warnings.simplefilter(\"ignore\")\n",
    "    scenarios_harmonised = [\n",
    "        aneris.convenience.harmonise_all(\n",
    "            msdf,\n",
    "            history=history,\n",
    "            harmonisation_year=harmonisation_year,\n",
    "            overrides=overrides,\n",
    "        ).reset_index(level=(5, 6, 7, 8, 9), drop=True)\n",
    "        for _, msdf in tqdm(future.groupby([\"model\", \"scenario\"]))\n",
    "    ]"
   ]
  },
  {
   "cell_type": "code",
   "execution_count": null,
   "id": "10",
   "metadata": {},
   "outputs": [],
   "source": [
    "scenarios_harmonised"
   ]
  },
  {
   "cell_type": "code",
   "execution_count": null,
   "id": "11",
   "metadata": {},
   "outputs": [],
   "source": [
    "scenarios_harmonised = pd.concat(scenarios_harmonised).reset_index()\n",
    "\n",
    "os.makedirs(\n",
    "    \"../output/emissions/v1.4.0\",\n",
    "    exist_ok=True,\n",
    ")\n",
    "\n",
    "scenarios_harmonised.to_csv(\n",
    "    \"../output/emissions/v1.4.0/ssps_harmonized_2022-2499.csv\",\n",
    "    index=False,\n",
    ")"
   ]
  },
  {
   "cell_type": "code",
   "execution_count": null,
   "id": "12",
   "metadata": {},
   "outputs": [],
   "source": [
    "scenarios = [\n",
    "    \"ssp119\",\n",
    "    \"ssp126\",\n",
    "    \"ssp245\",\n",
    "    \"ssp370\",\n",
    "    \"ssp434\",\n",
    "    \"ssp460\",\n",
    "    \"ssp534-over\",\n",
    "    \"ssp585\",\n",
    "]"
   ]
  },
  {
   "cell_type": "code",
   "execution_count": null,
   "id": "13",
   "metadata": {},
   "outputs": [],
   "source": [
    "fair_map = {var: var.split(\"|\")[-1] for var in variables}\n",
    "fair_map[\"Emissions|CO2|Energy and Industrial Processes\"] = \"CO2 FFI\"\n",
    "fair_map[\"Emissions|CO2|AFOLU\"] = \"CO2 AFOLU\""
   ]
  },
  {
   "cell_type": "code",
   "execution_count": null,
   "id": "14",
   "metadata": {},
   "outputs": [],
   "source": [
    "ssp245_in = pd.read_csv(\"../data/emissions/v1.4.0/ssp245.csv\")"
   ]
  },
  {
   "cell_type": "code",
   "execution_count": null,
   "id": "15",
   "metadata": {},
   "outputs": [],
   "source": [
    "species, properties = read_properties()\n",
    "species.remove(\"Halon-1202\")\n",
    "species.remove(\"NOx aviation\")\n",
    "species.remove(\"Contrails\")\n",
    "\n",
    "f = FAIR(ch4_method=\"thornhill2021\")\n",
    "f.define_time(1750, 2500, 1)\n",
    "f.define_configs([\"unspecified\"])\n",
    "f.define_scenarios(scenarios)\n",
    "f.define_species(species, properties)\n",
    "\n",
    "f.allocate()\n",
    "f.fill_from_rcmip()"
   ]
  },
  {
   "cell_type": "code",
   "execution_count": null,
   "id": "16",
   "metadata": {},
   "outputs": [],
   "source": [
    "# fill emissions\n",
    "for scenario in scenarios:\n",
    "    for specie in fair_map:\n",
    "        data_his = history.xs(specie, level=\"variable\").loc[:, 1750:2021].values.squeeze()\n",
    "        if scenario != \"ssp245\":\n",
    "            data_fut = scenarios_harmonised.loc[\n",
    "                (\n",
    "                    (scenarios_harmonised[\"scenario\"]==scenario) &\n",
    "                    (scenarios_harmonised[\"variable\"]==specie)\n",
    "                ), 2022:2499].values.squeeze()\n",
    "        else:\n",
    "            data_fut = ssp245_in.loc[ssp245_in[\"variable\"] == specie, \"2022\":\"2499\"].values.squeeze()\n",
    "        data = np.concatenate((data_his, data_fut))\n",
    "        fill(\n",
    "            f.emissions,\n",
    "            data,\n",
    "            config=\"unspecified\",\n",
    "            scenario=scenario,\n",
    "            #        timepoints=np.arange(1750.5, 2021),\n",
    "            specie=fair_map[specie],\n",
    "        )"
   ]
  },
  {
   "cell_type": "code",
   "execution_count": null,
   "id": "17",
   "metadata": {},
   "outputs": [],
   "source": [
    "f.emissions"
   ]
  },
  {
   "cell_type": "code",
   "execution_count": null,
   "id": "18",
   "metadata": {},
   "outputs": [],
   "source": [
    "f.emissions.to_netcdf(\n",
    "    \"../output/emissions/v1.4.0/ssps_2022_harmonization_1750-2499.nc\"\n",
    ")"
   ]
  },
  {
   "cell_type": "code",
   "execution_count": null,
   "id": "19",
   "metadata": {},
   "outputs": [],
   "source": []
  }
 ],
 "metadata": {
  "kernelspec": {
   "display_name": "Python 3 (ipykernel)",
   "language": "python",
   "name": "python3"
  },
  "language_info": {
   "codemirror_mode": {
    "name": "ipython",
    "version": 3
   },
   "file_extension": ".py",
   "mimetype": "text/x-python",
   "name": "python",
   "nbconvert_exporter": "python",
   "pygments_lexer": "ipython3",
   "version": "3.12.5"
  }
 },
 "nbformat": 4,
 "nbformat_minor": 5
}
