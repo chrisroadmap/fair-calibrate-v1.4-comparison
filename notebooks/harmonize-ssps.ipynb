{
 "cells": [
  {
   "cell_type": "markdown",
   "id": "0",
   "metadata": {},
   "source": [
    "# Harmonize original SSPs to 2023 start date\n",
    "\n",
    "Assume ssp245 was \"correct\" history and re-run from there."
   ]
  },
  {
   "cell_type": "code",
   "execution_count": null,
   "id": "1",
   "metadata": {},
   "outputs": [],
   "source": [
    "import datetime\n",
    "import os\n",
    "import warnings\n",
    "\n",
    "import aneris.convenience\n",
    "import numpy as np\n",
    "import pandas as pd\n",
    "import scmdata\n",
    "from dotenv import load_dotenv\n",
    "from fair import FAIR, __version__\n",
    "from fair.interface import fill\n",
    "from fair.io import read_properties\n",
    "from tqdm.auto import tqdm\n",
    "import xarray as xr"
   ]
  },
  {
   "cell_type": "code",
   "execution_count": null,
   "id": "2",
   "metadata": {},
   "outputs": [],
   "source": [
    "# da_emissions_141 = xr.load_dataarray(\"../data/emissions/v1.4.0/ssp_emissions_1750-2500.nc\")\n",
    "# da_emissions_141"
   ]
  },
  {
   "cell_type": "code",
   "execution_count": null,
   "id": "3",
   "metadata": {},
   "outputs": [],
   "source": [
    "# emitted_indices = ~np.isnan(da_emissions_141[0, 0, 0, :])\n",
    "# da_emissions_141['specie'][emitted_indices].to_numpy()"
   ]
  },
  {
   "cell_type": "code",
   "execution_count": null,
   "id": "4",
   "metadata": {},
   "outputs": [],
   "source": [
    "# hist_ssp245 = da_emissions_141.sel(timepoints=np.arange(1750.5, 2023), scenario='ssp245', config='unspecified', specie=da_emissions_141['specie'][emitted_indices].to_numpy())"
   ]
  },
  {
   "cell_type": "code",
   "execution_count": null,
   "id": "5",
   "metadata": {},
   "outputs": [],
   "source": [
    "# os.makedirs('../output/')\n",
    "# hist_ssp245.to_pandas().T.to_csv('../output/historical_ssp245.csv')"
   ]
  },
  {
   "cell_type": "code",
   "execution_count": null,
   "id": "6",
   "metadata": {},
   "outputs": [],
   "source": [
    "# for scenario in da_emissions_141['scenario'].to_numpy():\n",
    "#      da_emissions_141.sel(\n",
    "#          timepoints=np.arange(2022.5, 2500), \n",
    "#          scenario=scenario, \n",
    "#          config='unspecified', \n",
    "#          specie=da_emissions_141['specie'][emitted_indices].to_numpy()\n",
    "#      ).to_pandas().T.to_csv(f'../output/future_{scenario}.csv')"
   ]
  },
  {
   "cell_type": "code",
   "execution_count": null,
   "id": "7",
   "metadata": {},
   "outputs": [],
   "source": [
    "df_in = pd.read_csv(\n",
    "    \"../data/emissions/v1.4.0/historical_ssp245.csv\"\n",
    ")"
   ]
  },
  {
   "cell_type": "code",
   "execution_count": null,
   "id": "8",
   "metadata": {},
   "outputs": [],
   "source": [
    "variables = list(df_in[\"variable\"])\n",
    "units = list(df_in[\"unit\"])\n",
    "var_units = {var: unit for var, unit in zip(variables, units)}\n",
    "\n",
    "times = []\n",
    "years = range(1750, 2023)\n",
    "for year in years:\n",
    "    times.append(datetime.datetime(year, 1, 1))\n",
    "    # they are really midyears, but we just want this to work\n",
    "\n",
    "times_future = []\n",
    "years_future = range(2022, 2500)\n",
    "for year in years_future:\n",
    "    times_future.append(datetime.datetime(year, 1, 1))"
   ]
  },
  {
   "cell_type": "code",
   "execution_count": null,
   "id": "9",
   "metadata": {},
   "outputs": [],
   "source": []
  }
 ],
 "metadata": {
  "kernelspec": {
   "display_name": "Python 3 (ipykernel)",
   "language": "python",
   "name": "python3"
  },
  "language_info": {
   "codemirror_mode": {
    "name": "ipython",
    "version": 3
   },
   "file_extension": ".py",
   "mimetype": "text/x-python",
   "name": "python",
   "nbconvert_exporter": "python",
   "pygments_lexer": "ipython3",
   "version": "3.12.5"
  }
 },
 "nbformat": 4,
 "nbformat_minor": 5
}
